{
  "nbformat": 4,
  "nbformat_minor": 0,
  "metadata": {
    "colab": {
      "provenance": [],
      "include_colab_link": true
    },
    "kernelspec": {
      "name": "python3",
      "display_name": "Python 3"
    },
    "language_info": {
      "name": "python"
    }
  },
  "cells": [
    {
      "cell_type": "markdown",
      "metadata": {
        "id": "view-in-github",
        "colab_type": "text"
      },
      "source": [
        "<a href=\"https://colab.research.google.com/github/LittleHehet/Analisis-de-Datos-Alexia-Alvarado-Alfaro/blob/main/Laboratorio_1_Funciones_Grupo4.ipynb\" target=\"_parent\"><img src=\"https://colab.research.google.com/assets/colab-badge.svg\" alt=\"Open In Colab\"/></a>"
      ]
    },
    {
      "cell_type": "markdown",
      "source": [
        "Kendra Artavia Caballero\n",
        "\n",
        "Alexia Alvarado Alfaro\n",
        "\n",
        "Jose Soto Perez\n",
        "\n",
        "Johey Artavia Barrantes\n"
      ],
      "metadata": {
        "id": "nDYGXlSWGDyd"
      }
    },
    {
      "cell_type": "markdown",
      "source": [
        "\n",
        "**Cuadrado**"
      ],
      "metadata": {
        "id": "WQjldtD45fTN"
      }
    },
    {
      "cell_type": "code",
      "source": [
        "from google.colab import auth\n",
        "auth.authenticate_user()\n",
        "print('Authenticated')"
      ],
      "metadata": {
        "colab": {
          "base_uri": "https://localhost:8080/"
        },
        "id": "0jn7aNEzjg8F",
        "outputId": "05d3761f-92ac-4d9a-8130-1418e736464c"
      },
      "execution_count": 1,
      "outputs": [
        {
          "output_type": "stream",
          "name": "stdout",
          "text": [
            "Authenticated\n"
          ]
        }
      ]
    },
    {
      "cell_type": "code",
      "source": [
        "import math\n",
        "\n",
        "def calcular_area_cuadrado(lado):\n",
        "  return lado * lado\n",
        "\n",
        "def calcular_perimetro_cuadrado(lado):\n",
        "  return 4 * lado\n",
        "\n",
        "lado= int(input(\"Digite un valor:\"))\n",
        "area=calcular_area_cuadrado(lado)\n",
        "perimetro=calcular_perimetro_cuadrado(lado)\n",
        "print(\"El area es: \",area)\n",
        "print(\"El perimetro: \", perimetro)"
      ],
      "metadata": {
        "colab": {
          "base_uri": "https://localhost:8080/"
        },
        "id": "coWLdz7jirJG",
        "outputId": "2f0984da-553e-4654-f88f-0db3f4c98ffa"
      },
      "execution_count": null,
      "outputs": [
        {
          "output_type": "stream",
          "name": "stdout",
          "text": [
            "Digite un valor:4\n",
            "El area es:  16\n",
            "El perimetro:  16\n"
          ]
        }
      ]
    },
    {
      "cell_type": "markdown",
      "source": [
        "**Rectangulo**"
      ],
      "metadata": {
        "id": "mEueMBT8G71i"
      }
    },
    {
      "cell_type": "code",
      "source": [
        "import math\n",
        "\n",
        "def calcular_area_rectangulo(base, altura):\n",
        "  return base * altura\n",
        "\n",
        "def calcular_perimetro_rectangulo(base, altura):\n",
        "  return 2*base + 2*altura\n",
        "\n",
        "base = int(input(\"Digite el valor de la base: \"))\n",
        "altura = int(input(\"Digite el valor de la altura: \"))\n",
        "area = calcular_area_rectangulo(base,altura)\n",
        "perimetro = calcular_perimetro_rectangulo(base,altura)\n",
        "print(\"El area es: \", area)\n",
        "print(\"El perimetro es: \", perimetro)"
      ],
      "metadata": {
        "id": "BlV2FnO1G83B"
      },
      "execution_count": null,
      "outputs": []
    },
    {
      "cell_type": "markdown",
      "source": [
        "**Paralelogramo**"
      ],
      "metadata": {
        "id": "nrpaP3ix74x7"
      }
    },
    {
      "cell_type": "code",
      "source": [
        "import math\n",
        "\n",
        "def calcular_area_paralelogramo(base, altura):\n",
        "  return base * altura\n",
        "\n",
        "def calcular_perimetro_paralelogramo(lado_izquierdo, lado_derecho, base):\n",
        "  return lado_izquierdo + lado_derecho + (base * 2)\n",
        "\n",
        "lado_izquierdo = int(input(\"Digite un valor para el lado izquierdo: \"))\n",
        "lado_derecho = int(input(\"Digite un valor para el lado derecho: \"))\n",
        "base = int(input(\"Digite un valor para la base: \"))\n",
        "altura = int(input(\"Digite un valor para la altura: \"))\n",
        "area = calcular_area_paralelogramo(base, altura)\n",
        "perimetro = calcular_perimetro_paralelogramo(lado_izquierdo, lado_derecho, base)\n",
        "print(\"El area es: \", area)\n",
        "print(\"El perimetro: \", perimetro)"
      ],
      "metadata": {
        "id": "AQspp-l479Mp",
        "colab": {
          "base_uri": "https://localhost:8080/"
        },
        "outputId": "e9279106-4a25-4dea-ac22-52e2da95e3b9"
      },
      "execution_count": null,
      "outputs": [
        {
          "output_type": "stream",
          "name": "stdout",
          "text": [
            "Digite un valor para el lado 1: 5\n",
            "Digite un valor para el lado 2: 4\n",
            "Digite un valor para el lado 3: 6\n",
            "Digite un valor para el lado 4: 7\n",
            "Digite un valor para la base: 10\n",
            "Digite un valor para la altura: 5\n",
            "El area es:  50\n",
            "El perimetro:  22\n"
          ]
        }
      ]
    },
    {
      "cell_type": "markdown",
      "source": [
        "**Triangulo**"
      ],
      "metadata": {
        "id": "yloCKi8CHK0-"
      }
    },
    {
      "cell_type": "code",
      "source": [
        "import math\n",
        "\n",
        "def calcular_area_triangulo(base, altura):\n",
        "  return (base * altura) / 2\n",
        "\n",
        "def calcular_perimetro_triangulo(lado_izquierdo, lado_derecho, base):\n",
        "  return lado_izquierdo + lado_derecho + base\n",
        "\n",
        "lado1 = int(input(\"Digite un valor para el lado izquierdo del triangulo: \"))\n",
        "lado2 = int(input(\"Digite un valor para el lado derecho del triangulo: \"))\n",
        "base = int(input(\"Digite un valor para la base: \"))\n",
        "altura = int(input(\"Digite un valor para la altura: \"))\n",
        "area = calcular_area_triangulo(base, altura)\n",
        "perimetro = calcular_perimetro_triangulo(lado1, lado2, base)\n",
        "print(\"El area del triangulo es: \", area)\n",
        "print(\"El perimetro del triangulo es: \", perimetro)"
      ],
      "metadata": {
        "id": "fjnltr0aHL79"
      },
      "execution_count": null,
      "outputs": []
    },
    {
      "cell_type": "markdown",
      "source": [
        "**Triangulo Equilatero**"
      ],
      "metadata": {
        "id": "mImgeKNlHZvZ"
      }
    },
    {
      "cell_type": "code",
      "source": [
        "import math\n",
        "\n",
        "def calcular_area_triangulo_equilatero(lado):\n",
        "    return ((math.sqrt(3) * lado**2) / 4)\n",
        "\n",
        "def calcular_perimetro_triangulo_equilatero(lado):\n",
        "  return 3*lado\n",
        "\n",
        "lado = int(input(\"Digite el valor del lado: \"))\n",
        "area = calcular_area_triangulo_equilatero(lado)\n",
        "perimetro = calcular_perimetro_triangulo_equilatero(lado)\n",
        "print(\"El area es: \", area)\n",
        "print(\"El perimetro es: \", perimetro)"
      ],
      "metadata": {
        "id": "WTkWAmWMHbhI"
      },
      "execution_count": null,
      "outputs": []
    },
    {
      "cell_type": "markdown",
      "source": [
        "**Rombo**"
      ],
      "metadata": {
        "id": "PKuzMNbp7hPy"
      }
    },
    {
      "cell_type": "code",
      "source": [
        "import math\n",
        "\n",
        "\n",
        "def calcular_area_rombo(DM , d):\n",
        "  return (DM * d) / 2\n",
        "\n",
        "def calcular_perimetro_rombo(lado):\n",
        "  return 4 * lado\n",
        "\n",
        "lado= int(input(\"Digite el valor del lado:\"))\n",
        "DM= int(input(\"Digite el valor de la diagonal mayor:\"))\n",
        "d= int(input(\"Digite el valor de la diagonal menor:\"))\n",
        "area=calcular_area_rombo(DM , d)\n",
        "perimetro=calcular_perimetro_rombo(lado)\n",
        "print(\"El area es: \",area)\n",
        "print(\"El perimetro: \", perimetro)"
      ],
      "metadata": {
        "id": "3fuwqaln7j_a"
      },
      "execution_count": null,
      "outputs": []
    },
    {
      "cell_type": "markdown",
      "source": [
        "**Trapecio**"
      ],
      "metadata": {
        "id": "ZscffCPE_5XR"
      }
    },
    {
      "cell_type": "code",
      "source": [
        "import math\n",
        "def calcular_area_trapcio(BaseMayor, BaseMenor, altura):\n",
        "  area=(((BaseMayor+BaseMenor)/2)*altura)\n",
        "  return area\n",
        "\n",
        "def calcular_perimetro_trapecio(BaseMayor, BaseMenor, altura):\n",
        "  lado1=abs(BaseMayor-BaseMenor)/2\n",
        "  lado2=altura\n",
        "  perimetro=BaseMayor+BaseMenor+2*(lado1**2+lado2**2)**0.5\n",
        "  return perimetro\n",
        "\n",
        "BaseMayor= float(input(\"Digite un valor para la base mayor:\"))\n",
        "BaseMenor= float(input(\"Digite un valor para la base menor:\"))\n",
        "altura= float(input(\"Digite un valor para la altura:\"))\n",
        "\n",
        "area=calcular_area_trapcio(BaseMayor, BaseMenor, altura)\n",
        "perimetro=calcular_perimetro_trapecio(BaseMayor, BaseMenor, altura)\n",
        "print(\"El area es: \",area)\n",
        "print(\"El perimetro: \", perimetro)"
      ],
      "metadata": {
        "id": "NKnaTM4x_8Fx"
      },
      "execution_count": null,
      "outputs": []
    },
    {
      "cell_type": "markdown",
      "source": [
        "**Poligano Regular**"
      ],
      "metadata": {
        "id": "u33gbzZ3_8kp"
      }
    },
    {
      "cell_type": "code",
      "source": [
        "import math\n",
        "\n",
        "\n",
        "def calcular_area_poligano(a):\n",
        "  return ( calcular_perimetro_poligano(n , x) * a ) / 2\n",
        "\n",
        "def calcular_perimetro_poligano(n , x):\n",
        "  return n * x\n",
        "\n",
        "\n",
        "a = int(input(\"Digite el valor del apotema:\"))\n",
        "x= int(input(\"Digite el valor del lado:\"))\n",
        "n= int(input(\"Digite el numero de lados\"))\n",
        "area=calcular_area_poligano(a)\n",
        "perimetro=calcular_perimetro_poligano(n , x)\n",
        "print(\"El area es: \",area)\n",
        "print(\"El perimetro: \", perimetro)"
      ],
      "metadata": {
        "id": "_odr9WmOFQcV"
      },
      "execution_count": null,
      "outputs": []
    },
    {
      "cell_type": "markdown",
      "source": [
        "**Circulo**"
      ],
      "metadata": {
        "id": "eBqgOlSS5XtH"
      }
    },
    {
      "cell_type": "code",
      "source": [
        "import math\n",
        "radio = int(input(\"Digite el radio: \"))\n",
        "def calcular_area_circulo(radio):\n",
        "  return math.pi * radio**2\n",
        "\n",
        "def calcular_perimetro_circulo(radio):\n",
        "  return 2*math.pi * radio\n",
        "area=calcular_area_circulo(radio)\n",
        "perimetro=calcular_perimetro_circulo(radio)\n",
        "print(\"El area es: \",area)\n",
        "print(\"El perimetro: \", perimetro)"
      ],
      "metadata": {
        "id": "jjUnug2UGkvu"
      },
      "execution_count": null,
      "outputs": []
    }
  ]
}