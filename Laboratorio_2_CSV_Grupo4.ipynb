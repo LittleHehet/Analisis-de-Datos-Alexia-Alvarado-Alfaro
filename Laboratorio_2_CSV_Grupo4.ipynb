{
  "nbformat": 4,
  "nbformat_minor": 0,
  "metadata": {
    "colab": {
      "provenance": [],
      "include_colab_link": true
    },
    "kernelspec": {
      "name": "python3",
      "display_name": "Python 3"
    },
    "language_info": {
      "name": "python"
    }
  },
  "cells": [
    {
      "cell_type": "markdown",
      "metadata": {
        "id": "view-in-github",
        "colab_type": "text"
      },
      "source": [
        "<a href=\"https://colab.research.google.com/github/LittleHehet/Analisis-de-Datos-Alexia-Alvarado-Alfaro/blob/main/Laboratorio_2_CSV_Grupo4.ipynb\" target=\"_parent\"><img src=\"https://colab.research.google.com/assets/colab-badge.svg\" alt=\"Open In Colab\"/></a>"
      ]
    },
    {
      "cell_type": "markdown",
      "source": [
        "**Integrantes**\n",
        "\n",
        "Kendra Artavia Caballero\n",
        "\n",
        "Alexia Alvarado Alfaro\n",
        "\n",
        "Jose Soto Perez\n",
        "\n",
        "Johey Artavia Barrantes"
      ],
      "metadata": {
        "id": "TEYpr_t5bNP3"
      }
    },
    {
      "cell_type": "code",
      "source": [
        "from google.colab import auth\n",
        "auth.authenticate_user()\n",
        "print('Authenticated')"
      ],
      "metadata": {
        "colab": {
          "base_uri": "https://localhost:8080/"
        },
        "id": "4eFmI3XDl2Xb",
        "outputId": "42b07c67-2ed6-485d-c679-ec66213739f5"
      },
      "execution_count": 1,
      "outputs": [
        {
          "output_type": "stream",
          "name": "stdout",
          "text": [
            "Authenticated\n"
          ]
        }
      ]
    },
    {
      "cell_type": "code",
      "source": [
        "import pandas as pd\n",
        "import matplotlib.pyplot as plt\n",
        "df=pd.read_csv('/content/Covid.csv')\n",
        "data=pd.DataFrame(df)\n",
        "print(data)"
      ],
      "metadata": {
        "id": "rJVMc2zVa2iK",
        "colab": {
          "base_uri": "https://localhost:8080/"
        },
        "outputId": "d4329291-84ce-4c85-c6ea-dd54df06aeea"
      },
      "execution_count": null,
      "outputs": [
        {
          "output_type": "stream",
          "name": "stdout",
          "text": [
            "          Country iso3  year  month     sex age_group       type  \\\n",
            "0     Afghanistan  AFG  2020      1  Female      0-24  predicted   \n",
            "1     Afghanistan  AFG  2020      2  Female     25-34  predicted   \n",
            "2     Afghanistan  AFG  2020      3  Female     35-44  predicted   \n",
            "3     Afghanistan  AFG  2020      4  Female     45-54  predicted   \n",
            "4     Afghanistan  AFG  2020      5  Female     55-64  predicted   \n",
            "...           ...  ...   ...    ...     ...       ...        ...   \n",
            "4651     Zimbabwe  ZWE  2021      8    Male     45-54  predicted   \n",
            "4652     Zimbabwe  ZWE  2021      9    Male     55-64  predicted   \n",
            "4653     Zimbabwe  ZWE  2021     10    Male     65-74  predicted   \n",
            "4654     Zimbabwe  ZWE  2021     11    Male     75-84  predicted   \n",
            "4655     Zimbabwe  ZWE  2021     12    Male       >85  predicted   \n",
            "\n",
            "      expected.mean  acm.mean  excess.mean*  \n",
            "0             23088     23425           337  \n",
            "1             22412     22461            49  \n",
            "2             21921     20939          -982  \n",
            "3             21207     20137         -1071  \n",
            "4             20485     21559          1074  \n",
            "...             ...       ...           ...  \n",
            "4651           9716     11971          2254  \n",
            "4652           9518     10292           774  \n",
            "4653           9385      9678           293  \n",
            "4654           9272      9584           311  \n",
            "4655           9363     11418          2054  \n",
            "\n",
            "[4656 rows x 10 columns]\n"
          ]
        }
      ]
    },
    {
      "cell_type": "markdown",
      "source": [
        "grupo de datos por dos columnas\n"
      ],
      "metadata": {
        "id": "EiL1ZYHXaoRc"
      }
    },
    {
      "cell_type": "code",
      "source": [
        "dataFiltered = data.loc[(data['Country']==\"Belgium\")&(data['sex']==\"Female\")]\n",
        "print(dataFiltered)"
      ],
      "metadata": {
        "id": "hAJXSwdFa4o5",
        "colab": {
          "base_uri": "https://localhost:8080/"
        },
        "outputId": "cbf990d7-70bf-4aab-e257-d5eceae80c9b"
      },
      "execution_count": null,
      "outputs": [
        {
          "output_type": "stream",
          "name": "stdout",
          "text": [
            "     Country iso3  year  month     sex age_group      type  expected.mean  \\\n",
            "288  Belgium  BEL  2020      1  Female      0-24  reported          10026   \n",
            "289  Belgium  BEL  2020      2  Female     25-34  reported          10278   \n",
            "290  Belgium  BEL  2020      3  Female     35-44  reported          10039   \n",
            "291  Belgium  BEL  2020      4  Female     45-54  reported           9110   \n",
            "292  Belgium  BEL  2020      5  Female     55-64  reported           8591   \n",
            "293  Belgium  BEL  2020      6  Female     65-74  reported           8278   \n",
            "294  Belgium  BEL  2020      7  Female     75-84  reported           8362   \n",
            "295  Belgium  BEL  2020      8  Female       >85  reported           8238   \n",
            "304  Belgium  BEL  2021      5  Female      0-24  reported           8559   \n",
            "305  Belgium  BEL  2021      6  Female     25-34  reported           8265   \n",
            "306  Belgium  BEL  2021      7  Female     35-44  reported           8333   \n",
            "307  Belgium  BEL  2021      8  Female     45-54  reported           8231   \n",
            "308  Belgium  BEL  2021      9  Female     55-64  reported           8158   \n",
            "309  Belgium  BEL  2021     10  Female     65-74  reported           8530   \n",
            "310  Belgium  BEL  2021     11  Female     75-84  reported           9037   \n",
            "311  Belgium  BEL  2021     12  Female       >85  reported           9980   \n",
            "\n",
            "     acm.mean  excess.mean*  \n",
            "288     10185            32  \n",
            "289      9378         -1027  \n",
            "290     11668          1502  \n",
            "291     15294          6057  \n",
            "292      9538           820  \n",
            "293      7993          -412  \n",
            "294      8005          -484  \n",
            "295      9848          1483  \n",
            "304      9262           699  \n",
            "305      8156          -113  \n",
            "306      8456           119  \n",
            "307      8296            61  \n",
            "308      8296           134  \n",
            "309      9768          1234  \n",
            "310     10319          1278  \n",
            "311     11267          1283  \n"
          ]
        }
      ]
    },
    {
      "cell_type": "markdown",
      "source": [
        "sort de un grupo de datos, los primeros 10"
      ],
      "metadata": {
        "id": "q2aK5LXZcaa-"
      }
    },
    {
      "cell_type": "code",
      "source": [
        "#Los 10 primeros promedio con mayor muertes asociadas con el covid en el sexo masculino\n",
        "dataFiltereadM=data.loc[(data['sex']=='Male')]\n",
        "print(dataFiltereadM.sort_values(by=['excess.mean*'],ascending=False)[['Country', 'excess.mean*','sex' ]].head(10))\n"
      ],
      "metadata": {
        "id": "NQu_MAhucuYR",
        "colab": {
          "base_uri": "https://localhost:8080/"
        },
        "outputId": "50369090-8c86-4b19-a31a-43bd10e0beb1"
      },
      "execution_count": null,
      "outputs": [
        {
          "output_type": "stream",
          "name": "stdout",
          "text": [
            "                 Country  excess.mean*   sex\n",
            "1887               India        334180  Male\n",
            "1880               India        312170  Male\n",
            "1881               India        229869  Male\n",
            "1884               India        216738  Male\n",
            "1883               India        216065  Male\n",
            "1882               India        135686  Male\n",
            "3549  Russian Federation        125422  Male\n",
            "1885               India        121815  Male\n",
            "3550  Russian Federation         98519  Male\n",
            "1867           Indonesia         94954  Male\n"
          ]
        }
      ]
    },
    {
      "cell_type": "markdown",
      "source": [
        "realizar un calculo de un promedio y explicarlo"
      ],
      "metadata": {
        "id": "2f3gK9sljouI"
      }
    },
    {
      "cell_type": "code",
      "source": [
        "dataFiltered = data.loc[(data['Country'] =='India')]\n",
        "print(dataFiltered['excess.mean*'].max())"
      ],
      "metadata": {
        "id": "yl4j1cDtiAXB",
        "colab": {
          "base_uri": "https://localhost:8080/"
        },
        "outputId": "ba2830a1-4975-4492-9dad-c958d20a7215"
      },
      "execution_count": null,
      "outputs": [
        {
          "output_type": "stream",
          "name": "stdout",
          "text": [
            "1303368\n"
          ]
        }
      ]
    }
  ]
}