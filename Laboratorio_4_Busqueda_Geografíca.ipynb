{
  "nbformat": 4,
  "nbformat_minor": 0,
  "metadata": {
    "colab": {
      "provenance": [],
      "authorship_tag": "ABX9TyNbdN3+8XTEq+2hfWYDFrsW",
      "include_colab_link": true
    },
    "kernelspec": {
      "name": "python3",
      "display_name": "Python 3"
    },
    "language_info": {
      "name": "python"
    }
  },
  "cells": [
    {
      "cell_type": "markdown",
      "metadata": {
        "id": "view-in-github",
        "colab_type": "text"
      },
      "source": [
        "<a href=\"https://colab.research.google.com/github/LittleHehet/Analisis-de-Datos-Alexia-Alvarado-Alfaro/blob/main/Laboratorio_4_Busqueda_Geograf%C3%ADca.ipynb\" target=\"_parent\"><img src=\"https://colab.research.google.com/assets/colab-badge.svg\" alt=\"Open In Colab\"/></a>"
      ]
    },
    {
      "cell_type": "markdown",
      "source": [
        "ALEXIA ALVARADO ALFARO\n",
        "\n",
        "Obtener un mapa. punto mapa\n",
        "\n"
      ],
      "metadata": {
        "id": "Iw6T5MyTiiMC"
      }
    },
    {
      "cell_type": "code",
      "source": [
        "from google.colab import auth\n",
        "auth.authenticate_user()\n",
        "print('Authenticated')"
      ],
      "metadata": {
        "colab": {
          "base_uri": "https://localhost:8080/"
        },
        "id": "rWeZWZj9m7Pt",
        "outputId": "f467997a-762a-45ab-afb2-3ead6302dfa9"
      },
      "execution_count": 1,
      "outputs": [
        {
          "output_type": "stream",
          "name": "stdout",
          "text": [
            "Authenticated\n"
          ]
        }
      ]
    },
    {
      "cell_type": "code",
      "source": [
        "import folium"
      ],
      "metadata": {
        "id": "1-Cv9NkymMlo"
      },
      "execution_count": null,
      "outputs": []
    },
    {
      "cell_type": "code",
      "source": [
        "from folium.plugins import MiniMap\n",
        "from branca.element import Figure"
      ],
      "metadata": {
        "id": "FHMs85gfmPKA"
      },
      "execution_count": null,
      "outputs": []
    },
    {
      "cell_type": "code",
      "source": [
        "#Guanacaste=folium.Map(location=(10.61759184104558, -85.45139414746559))\n",
        "#Guanacaste"
      ],
      "metadata": {
        "id": "GB666XgQmRlG"
      },
      "execution_count": null,
      "outputs": []
    },
    {
      "cell_type": "markdown",
      "source": [
        "LABORATORIO GEOGRAFICO"
      ],
      "metadata": {
        "id": "xej7D4DwA5mY"
      }
    },
    {
      "cell_type": "code",
      "execution_count": null,
      "metadata": {
        "id": "lL390W8aiaZg"
      },
      "outputs": [],
      "source": [
        "\n",
        "my_map=folium.Map(location=(10.42909327772152, -83.97790023195142)) #COSTA RICA\n",
        "#(9.998785482764863, -84.11146156627284) OMAR DENGO\n",
        "#(9.97106530367444, -84.128273384823) BENJAMIN NUÑEZ\n",
        "#(10.617607658763513, -85.45135659654352) #LIBERIA\n",
        "#(9.379862700748983, -83.691482017431) #PEREZ ZELEDDON\n",
        "#(8.573577888309977, -82.87243460394026) #COTO\n",
        "#(10.134539835808157, -85.44674667345416) #NICOYA\n",
        "#(10.319287214201527, -83.92277928267471) #SARAPIQUI\n",
        "#(10.019779816296387, -84.19701647049331) #ALAJUELA\n",
        "\n",
        "# Lista de ubicaciones y sus popups\n",
        "locations = [\n",
        "    {\"nombre\": \"Sede Omar Dengo, UNA\", \"coordinates\":(9.998785482764863, -84.11146156627284)},\n",
        "    {\"nombre\": \"Sede Benjamin Nuñez, UNA\", \"coordinates\":(9.97106530367444, -84.128273384823)},\n",
        "    {\"nombre\": \"Sede Liberia, UNA\", \"coordinates\":(10.617607658763513, -85.45135659654352)},\n",
        "    {\"nombre\": \"Sede Perez Zeledon, UNA\", \"coordinates\": (9.379862700748983, -83.691482017431)},\n",
        "    {\"nombre\": \"Sede Coto, UNA\", \"coordinates\": (8.573577888309977, -82.87243460394026)},\n",
        "    {\"nombre\": \"Sede Nicoya, UNA\", \"coordinates\": (10.134539835808157, -85.44674667345416)},\n",
        "    {\"nombre\": \"Sede Sarapiqui, UNA\", \"coordinates\": (10.319287214201527, -83.92277928267471)},\n",
        "    {\"nombre\": \"Sede Alajuela, UNA\", \"coordinates\": (10.019779816296387, -84.19701647049331)}\n",
        "]\n",
        "\n",
        "for location in locations:\n",
        "    popuptext = f'<b>{location[\"nombre\"]}</b>'\n",
        "    folium.Marker(location=location[\"coordinates\"], popup=popuptext, icon=folium.Icon(color=\"orange\", icon=\"ok-sign\")).add_to(my_map)\n",
        "    folium.Circle(location=location[\"coordinates\"], color=\"purple\", weight=6, fill_color=\"red\", fill_opacity=0.5, tooltip=location[\"nombre\"]).add_to(my_map)\n",
        "\n",
        "minimap = folium.plugins.MiniMap(tile_layer='stamenterrain', position='bottomright')\n",
        "my_map.add_child(minimap)\n"
      ]
    },
    {
      "cell_type": "markdown",
      "source": [
        "EJEMPLO DE LA PROFE CLASES"
      ],
      "metadata": {
        "id": "6NX3e0hWA2i3"
      }
    },
    {
      "cell_type": "code",
      "source": [
        "popuptext ='<b>Guanacaste</b>'\n",
        "\n",
        "my_map=folium.Map(location=(10.617607658763513, -85.45135659654352)) #LIBERIA\n",
        "#(9.379862700748983, -83.691482017431) #PEREZ ZELEDDON\n",
        "#(8.573577888309977, -82.87243460394026) #COTO\n",
        "#(10.134539835808157, -85.44674667345416) #NICOYA\n",
        "#(10.319287214201527, -83.92277928267471) #SARAPIQUI\n",
        "#(10.019779816296387, -84.19701647049331) #ALAJUELA\n",
        "\n",
        "folium.Marker(location=[10.617607658763513, -85.45135659654352],popup=popuptext,icon=folium.Icon\n",
        " (color=\"orange\",icon=\"ok-sign\")).add_to(my_map)\n",
        "\n",
        "folium.Circle(location=[10.617607658763513, -85.45135659654352],color=\"purple\",weight=6,\n",
        "               fill_color=\"red\",fill_opacity=0.5,tooltip=\"Guanacaste\").add_to(my_map)\n",
        "\n",
        "minimap=MiniMap(tile_layer='stamenterrain',position='bottomright')\n",
        "\n",
        "my_map.add_child(minimap)"
      ],
      "metadata": {
        "id": "WZ9Y5_WCA0hT"
      },
      "execution_count": null,
      "outputs": []
    }
  ]
}