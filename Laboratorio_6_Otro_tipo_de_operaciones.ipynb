{
  "nbformat": 4,
  "nbformat_minor": 0,
  "metadata": {
    "colab": {
      "provenance": [],
      "include_colab_link": true
    },
    "kernelspec": {
      "name": "python3",
      "display_name": "Python 3"
    },
    "language_info": {
      "name": "python"
    }
  },
  "cells": [
    {
      "cell_type": "markdown",
      "metadata": {
        "id": "view-in-github",
        "colab_type": "text"
      },
      "source": [
        "<a href=\"https://colab.research.google.com/github/LittleHehet/Analisis-de-Datos-Alexia-Alvarado-Alfaro/blob/main/Laboratorio_6_Otro_tipo_de_operaciones.ipynb\" target=\"_parent\"><img src=\"https://colab.research.google.com/assets/colab-badge.svg\" alt=\"Open In Colab\"/></a>"
      ]
    },
    {
      "cell_type": "markdown",
      "source": [
        "# Problema: Validar numeros de trajetas de credito\n",
        "####Algoritmo de Luhn, serie de operaciones simples sobre digitos\n",
        "\n",
        "\n",
        "1.   Kendra Artavia\n",
        "2.   Alexia Alvarado\n",
        "3.   Johey Artavia\n",
        "4.   Jose Soto\n",
        "\n",
        "# Referencia\n",
        "\n",
        "  Explicación y usos del algoritmo de Luhn | Stripe. (n.d.). Retrieved May 20, 2024, from https://stripe.com/es/resources/more/how-to-use-the-luhn-algorithm-a-guide-in-applications-for-businesses\n",
        "\n",
        "\n",
        "\n",
        "\n",
        "\n",
        "\n"
      ],
      "metadata": {
        "id": "sANM31a-h3C-"
      }
    },
    {
      "cell_type": "code",
      "source": [
        "from google.colab import auth\n",
        "auth.authenticate_user()\n",
        "print('Authenticated')"
      ],
      "metadata": {
        "colab": {
          "base_uri": "https://localhost:8080/"
        },
        "id": "KYQdhnWsnfo3",
        "outputId": "201e3b13-13b1-4766-f047-00921b3acc07"
      },
      "execution_count": 1,
      "outputs": [
        {
          "output_type": "stream",
          "name": "stdout",
          "text": [
            "Authenticated\n"
          ]
        }
      ]
    },
    {
      "cell_type": "code",
      "execution_count": null,
      "metadata": {
        "colab": {
          "base_uri": "https://localhost:8080/"
        },
        "id": "K4vOUQUXcSQF",
        "outputId": "f458939b-1644-403a-f6bc-775a241ba62c"
      },
      "outputs": [
        {
          "output_type": "stream",
          "name": "stdout",
          "text": [
            "La tarjeta no es válida.\n",
            "La tarjeta2 es válida.\n"
          ]
        }
      ],
      "source": [
        "\n",
        "def validar_tarjeta(numero):\n",
        "    # Convertir el número de tarjeta a una lista de dígitos\n",
        "    digitos = [int(d) for d in str(numero)]\n",
        "\n",
        "    # Invertir la lista de dígitos\n",
        "    digitos.reverse()\n",
        "\n",
        "    # Duplicar los dígitos en posiciones impares\n",
        "    for i in range(1, len(digitos), 2):\n",
        "        digitos[i] *= 2\n",
        "        if digitos[i] > 9:\n",
        "            digitos[i] -= 9\n",
        "\n",
        "    # Sumar todos los dígitos\n",
        "    suma_digitos = sum(digitos)\n",
        "\n",
        "    # La tarjeta es válida si la suma de los dígitos es un múltiplo de 10\n",
        "    return suma_digitos % 10 == 0\n",
        "\n",
        "# Ejemplo de uso\n",
        "# Cambiar aqui los numeros para probar si una tarjeta es valida o no\n",
        "numero_tarjeta = \"5200551310053881\"\n",
        "if validar_tarjeta(numero_tarjeta):\n",
        "    print(\"La tarjeta es válida.\")\n",
        "else:\n",
        "    print(\"La tarjeta no es válida.\")\n",
        "\n",
        "\n",
        "    numero_tarjeta2 = \"4137894711755904\"\n",
        "if validar_tarjeta(numero_tarjeta2):\n",
        "    print(\"La tarjeta2 es válida.\")\n",
        "else:\n",
        "    print(\"La tarjeta2 no es válida.\")\n"
      ]
    }
  ]
}