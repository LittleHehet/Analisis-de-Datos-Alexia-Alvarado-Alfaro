{
  "nbformat": 4,
  "nbformat_minor": 0,
  "metadata": {
    "colab": {
      "provenance": [],
      "toc_visible": true,
      "include_colab_link": true
    },
    "kernelspec": {
      "name": "python3",
      "display_name": "Python 3"
    },
    "language_info": {
      "name": "python"
    }
  },
  "cells": [
    {
      "cell_type": "markdown",
      "metadata": {
        "id": "view-in-github",
        "colab_type": "text"
      },
      "source": [
        "<a href=\"https://colab.research.google.com/github/LittleHehet/Analisis-de-Datos-Alexia-Alvarado-Alfaro/blob/main/Mapas_Geopy_2024_Alexia_Alvarado_Alfaro.ipynb\" target=\"_parent\"><img src=\"https://colab.research.google.com/assets/colab-badge.svg\" alt=\"Open In Colab\"/></a>"
      ]
    },
    {
      "cell_type": "markdown",
      "source": [
        "mapas geopy 2024 alexia alvarado alfaro"
      ],
      "metadata": {
        "id": "tS8wFe3mSSju"
      }
    },
    {
      "cell_type": "code",
      "source": [
        "from google.colab import auth\n",
        "auth.authenticate_user()\n",
        "print('Authenticated')"
      ],
      "metadata": {
        "colab": {
          "base_uri": "https://localhost:8080/"
        },
        "id": "h3vJjGsrpcdc",
        "outputId": "5014427d-b6ad-4543-857d-a21cb766cfe4"
      },
      "execution_count": 1,
      "outputs": [
        {
          "output_type": "stream",
          "name": "stdout",
          "text": [
            "Authenticated\n"
          ]
        }
      ]
    },
    {
      "cell_type": "code",
      "execution_count": null,
      "metadata": {
        "id": "f07VqCvLSK8C"
      },
      "outputs": [],
      "source": [
        "from geopy.geocoders import Nominatim"
      ]
    },
    {
      "cell_type": "code",
      "source": [
        "geolocator=Nominatim(user_agent=\"stemcoder\") #instanciar el objeto"
      ],
      "metadata": {
        "id": "e0PtmI95Sxr9"
      },
      "execution_count": null,
      "outputs": []
    },
    {
      "cell_type": "markdown",
      "source": [
        "ejercicio #1 encontrar la ubicacion de costa rica"
      ],
      "metadata": {
        "id": "dDX3dCifTEBr"
      }
    },
    {
      "cell_type": "code",
      "source": [
        "Location=geolocator.geocode(\"Costa Rica\")"
      ],
      "metadata": {
        "id": "RDeBaTlXTIIX"
      },
      "execution_count": null,
      "outputs": []
    },
    {
      "cell_type": "code",
      "source": [
        "if Location is not None:\n",
        "  print(\"Ubicacion encontrada: \")\n",
        "  print (\"Direccion: \",Location.address)\n",
        "  print(\"Latitud: \",Location.latitude)\n",
        "  print(\"Longitud: \",Location.longitude)\n",
        "else:\n",
        "  print(\"Ubicacion no encontrada\")"
      ],
      "metadata": {
        "colab": {
          "base_uri": "https://localhost:8080/"
        },
        "id": "9Z5owCuUUKZl",
        "outputId": "f65f1a80-31c7-4587-aa6b-0d6b59630a3e"
      },
      "execution_count": null,
      "outputs": [
        {
          "output_type": "stream",
          "name": "stdout",
          "text": [
            "Ubicacion encontrada: \n",
            "Direccion:  Costa Rica\n",
            "Latitud:  10.2735633\n",
            "Longitud:  -84.0739102\n"
          ]
        }
      ]
    },
    {
      "cell_type": "code",
      "source": [
        "from google.colab import files\n",
        "import folium"
      ],
      "metadata": {
        "id": "UUPoWNS4V6d9"
      },
      "execution_count": null,
      "outputs": []
    },
    {
      "cell_type": "code",
      "source": [
        "#Coordenadas del centro de costa rica\n",
        "lat,lon=9.7489,-83.7534"
      ],
      "metadata": {
        "id": "2oujyinyWDr0"
      },
      "execution_count": null,
      "outputs": []
    },
    {
      "cell_type": "code",
      "source": [
        "costa_rica_map=folium.Map(location=[lat,lon],zoom_start=7)\n",
        "\n",
        "costa_rica_map.save(\"CostaRica.html\")\n",
        "files.download(\"CostaRica.html\")\n",
        "\n",
        "costa_rica_map"
      ],
      "metadata": {
        "colab": {
          "base_uri": "https://localhost:8080/",
          "height": 582
        },
        "id": "OnmQGxlPWjFv",
        "outputId": "e6b29778-823d-4e81-9536-028d7ddd9770"
      },
      "execution_count": null,
      "outputs": [
        {
          "output_type": "display_data",
          "data": {
            "text/plain": [
              "<IPython.core.display.Javascript object>"
            ],
            "application/javascript": [
              "\n",
              "    async function download(id, filename, size) {\n",
              "      if (!google.colab.kernel.accessAllowed) {\n",
              "        return;\n",
              "      }\n",
              "      const div = document.createElement('div');\n",
              "      const label = document.createElement('label');\n",
              "      label.textContent = `Downloading \"${filename}\": `;\n",
              "      div.appendChild(label);\n",
              "      const progress = document.createElement('progress');\n",
              "      progress.max = size;\n",
              "      div.appendChild(progress);\n",
              "      document.body.appendChild(div);\n",
              "\n",
              "      const buffers = [];\n",
              "      let downloaded = 0;\n",
              "\n",
              "      const channel = await google.colab.kernel.comms.open(id);\n",
              "      // Send a message to notify the kernel that we're ready.\n",
              "      channel.send({})\n",
              "\n",
              "      for await (const message of channel.messages) {\n",
              "        // Send a message to notify the kernel that we're ready.\n",
              "        channel.send({})\n",
              "        if (message.buffers) {\n",
              "          for (const buffer of message.buffers) {\n",
              "            buffers.push(buffer);\n",
              "            downloaded += buffer.byteLength;\n",
              "            progress.value = downloaded;\n",
              "          }\n",
              "        }\n",
              "      }\n",
              "      const blob = new Blob(buffers, {type: 'application/binary'});\n",
              "      const a = document.createElement('a');\n",
              "      a.href = window.URL.createObjectURL(blob);\n",
              "      a.download = filename;\n",
              "      div.appendChild(a);\n",
              "      a.click();\n",
              "      div.remove();\n",
              "    }\n",
              "  "
            ]
          },
          "metadata": {}
        },
        {
          "output_type": "display_data",
          "data": {
            "text/plain": [
              "<IPython.core.display.Javascript object>"
            ],
            "application/javascript": [
              "download(\"download_d9cf4a32-b481-4065-ab57-b0de41571ed6\", \"CostaRica.html\", 3126)"
            ]
          },
          "metadata": {}
        },
        {
          "output_type": "execute_result",
          "data": {
            "text/plain": [
              "<folium.folium.Map at 0x79721f46aa70>"
            ],
            "text/html": [
              "<div style=\"width:100%;\"><div style=\"position:relative;width:100%;height:0;padding-bottom:60%;\"><span style=\"color:#565656\">Make this Notebook Trusted to load map: File -> Trust Notebook</span><iframe srcdoc=\"&lt;!DOCTYPE html&gt;\n",
              "&lt;html&gt;\n",
              "&lt;head&gt;\n",
              "    \n",
              "    &lt;meta http-equiv=&quot;content-type&quot; content=&quot;text/html; charset=UTF-8&quot; /&gt;\n",
              "    \n",
              "        &lt;script&gt;\n",
              "            L_NO_TOUCH = false;\n",
              "            L_DISABLE_3D = false;\n",
              "        &lt;/script&gt;\n",
              "    \n",
              "    &lt;style&gt;html, body {width: 100%;height: 100%;margin: 0;padding: 0;}&lt;/style&gt;\n",
              "    &lt;style&gt;#map {position:absolute;top:0;bottom:0;right:0;left:0;}&lt;/style&gt;\n",
              "    &lt;script src=&quot;https://cdn.jsdelivr.net/npm/leaflet@1.9.3/dist/leaflet.js&quot;&gt;&lt;/script&gt;\n",
              "    &lt;script src=&quot;https://code.jquery.com/jquery-1.12.4.min.js&quot;&gt;&lt;/script&gt;\n",
              "    &lt;script src=&quot;https://cdn.jsdelivr.net/npm/bootstrap@5.2.2/dist/js/bootstrap.bundle.min.js&quot;&gt;&lt;/script&gt;\n",
              "    &lt;script src=&quot;https://cdnjs.cloudflare.com/ajax/libs/Leaflet.awesome-markers/2.0.2/leaflet.awesome-markers.js&quot;&gt;&lt;/script&gt;\n",
              "    &lt;link rel=&quot;stylesheet&quot; href=&quot;https://cdn.jsdelivr.net/npm/leaflet@1.9.3/dist/leaflet.css&quot;/&gt;\n",
              "    &lt;link rel=&quot;stylesheet&quot; href=&quot;https://cdn.jsdelivr.net/npm/bootstrap@5.2.2/dist/css/bootstrap.min.css&quot;/&gt;\n",
              "    &lt;link rel=&quot;stylesheet&quot; href=&quot;https://netdna.bootstrapcdn.com/bootstrap/3.0.0/css/bootstrap.min.css&quot;/&gt;\n",
              "    &lt;link rel=&quot;stylesheet&quot; href=&quot;https://cdn.jsdelivr.net/npm/@fortawesome/fontawesome-free@6.2.0/css/all.min.css&quot;/&gt;\n",
              "    &lt;link rel=&quot;stylesheet&quot; href=&quot;https://cdnjs.cloudflare.com/ajax/libs/Leaflet.awesome-markers/2.0.2/leaflet.awesome-markers.css&quot;/&gt;\n",
              "    &lt;link rel=&quot;stylesheet&quot; href=&quot;https://cdn.jsdelivr.net/gh/python-visualization/folium/folium/templates/leaflet.awesome.rotate.min.css&quot;/&gt;\n",
              "    \n",
              "            &lt;meta name=&quot;viewport&quot; content=&quot;width=device-width,\n",
              "                initial-scale=1.0, maximum-scale=1.0, user-scalable=no&quot; /&gt;\n",
              "            &lt;style&gt;\n",
              "                #map_2d34c169fdd282cdb1557e900bfcae54 {\n",
              "                    position: relative;\n",
              "                    width: 100.0%;\n",
              "                    height: 100.0%;\n",
              "                    left: 0.0%;\n",
              "                    top: 0.0%;\n",
              "                }\n",
              "                .leaflet-container { font-size: 1rem; }\n",
              "            &lt;/style&gt;\n",
              "        \n",
              "&lt;/head&gt;\n",
              "&lt;body&gt;\n",
              "    \n",
              "    \n",
              "            &lt;div class=&quot;folium-map&quot; id=&quot;map_2d34c169fdd282cdb1557e900bfcae54&quot; &gt;&lt;/div&gt;\n",
              "        \n",
              "&lt;/body&gt;\n",
              "&lt;script&gt;\n",
              "    \n",
              "    \n",
              "            var map_2d34c169fdd282cdb1557e900bfcae54 = L.map(\n",
              "                &quot;map_2d34c169fdd282cdb1557e900bfcae54&quot;,\n",
              "                {\n",
              "                    center: [9.7489, -83.7534],\n",
              "                    crs: L.CRS.EPSG3857,\n",
              "                    zoom: 7,\n",
              "                    zoomControl: true,\n",
              "                    preferCanvas: false,\n",
              "                }\n",
              "            );\n",
              "\n",
              "            \n",
              "\n",
              "        \n",
              "    \n",
              "            var tile_layer_80425c478565962bbec7455bbaeee60c = L.tileLayer(\n",
              "                &quot;https://{s}.tile.openstreetmap.org/{z}/{x}/{y}.png&quot;,\n",
              "                {&quot;attribution&quot;: &quot;Data by \\u0026copy; \\u003ca target=\\&quot;_blank\\&quot; href=\\&quot;http://openstreetmap.org\\&quot;\\u003eOpenStreetMap\\u003c/a\\u003e, under \\u003ca target=\\&quot;_blank\\&quot; href=\\&quot;http://www.openstreetmap.org/copyright\\&quot;\\u003eODbL\\u003c/a\\u003e.&quot;, &quot;detectRetina&quot;: false, &quot;maxNativeZoom&quot;: 18, &quot;maxZoom&quot;: 18, &quot;minZoom&quot;: 0, &quot;noWrap&quot;: false, &quot;opacity&quot;: 1, &quot;subdomains&quot;: &quot;abc&quot;, &quot;tms&quot;: false}\n",
              "            ).addTo(map_2d34c169fdd282cdb1557e900bfcae54);\n",
              "        \n",
              "&lt;/script&gt;\n",
              "&lt;/html&gt;\" style=\"position:absolute;width:100%;height:100%;left:0;top:0;border:none !important;\" allowfullscreen webkitallowfullscreen mozallowfullscreen></iframe></div></div>"
            ]
          },
          "metadata": {},
          "execution_count": 12
        }
      ]
    },
    {
      "cell_type": "markdown",
      "source": [
        "calcular la distancia enrre dos ubicaciones por sus coordenadas de latitud y longitud"
      ],
      "metadata": {
        "id": "h-QT7z1Faeyl"
      }
    },
    {
      "cell_type": "code",
      "source": [
        "from geopy.distance import geodesic"
      ],
      "metadata": {
        "id": "3ZvQlxefamq4"
      },
      "execution_count": null,
      "outputs": []
    },
    {
      "cell_type": "markdown",
      "source": [
        "coordenada de la primera ubicacion new york (40.759409401943195, -73.91101644906838)\n",
        "\n"
      ],
      "metadata": {
        "id": "-qO-JBppb7Fe"
      }
    },
    {
      "cell_type": "code",
      "source": [
        "lat1,lon1=40.759409401943195, -73.91101644906838"
      ],
      "metadata": {
        "id": "siB0tcS1cLGg"
      },
      "execution_count": null,
      "outputs": []
    },
    {
      "cell_type": "markdown",
      "source": [
        "coordenas de la primera ubicacion los angeles"
      ],
      "metadata": {
        "id": "E0GoPN5ncKVy"
      }
    },
    {
      "cell_type": "code",
      "source": [
        "lat2,lon2=34.047223313716486, -118.2373245406337\n"
      ],
      "metadata": {
        "id": "TPCf7d8GdRCA"
      },
      "execution_count": null,
      "outputs": []
    },
    {
      "cell_type": "code",
      "source": [
        "distance=geodesic((lat1,lon1),(lat2,lon2))\n",
        "print(f\"La distancia entre las dos ubicaciones es de {distance} kilometros\")"
      ],
      "metadata": {
        "colab": {
          "base_uri": "https://localhost:8080/"
        },
        "id": "wgOUzLEgdZuK",
        "outputId": "24bd51bb-ae3b-4f8a-801f-3b355acaca5a"
      },
      "execution_count": null,
      "outputs": [
        {
          "output_type": "stream",
          "name": "stdout",
          "text": [
            "La distancia entre las dos ubicaciones es de 3951.7804661530645 km kilometros\n"
          ]
        }
      ]
    },
    {
      "cell_type": "markdown",
      "source": [
        "encontrar un lugar (taj mahal = 27.175388185217663, 78.04211001349549)"
      ],
      "metadata": {
        "id": "op549boZeq6C"
      }
    },
    {
      "cell_type": "code",
      "source": [
        "ubicacion=\"Taj Mahal\"\n",
        "location=geolocator.geocode(ubicacion)\n",
        "\n",
        "if location is not None:\n",
        "  print(\"Ubicacion encontrada: \")\n",
        "  print (\"Direccion: \",location.address)\n",
        "  print(\"Latitud: \",location.latitude)\n",
        "  print(\"Longitud: \",location.longitude)\n",
        "else:\n",
        "  print(\"Ubicacion no encontrada\")"
      ],
      "metadata": {
        "colab": {
          "base_uri": "https://localhost:8080/"
        },
        "id": "4p42Ze_sexRa",
        "outputId": "09911d2d-c395-4eef-fc29-770f04cad9c1"
      },
      "execution_count": null,
      "outputs": [
        {
          "output_type": "stream",
          "name": "stdout",
          "text": [
            "Ubicacion encontrada: \n",
            "Direccion:  Taj Mahal, Taj East Gate Road, Taj Ganj, Agra, Agra District, Uttar Pradesh, 282004, India\n",
            "Latitud:  27.1750075\n",
            "Longitud:  78.04210126365584\n"
          ]
        }
      ]
    },
    {
      "cell_type": "markdown",
      "source": [
        "Laboratiorio\n",
        "1.buscar un lugar donde a ud le gustaria visitar\n",
        "2.calcular la distancia de ese lugar con costa rica\n",
        "3.generar el mapa en html de ese lugar\n",
        "4.subir el codigo en python y el mapa"
      ],
      "metadata": {
        "id": "ezE6pzcdftWu"
      }
    }
  ]
}