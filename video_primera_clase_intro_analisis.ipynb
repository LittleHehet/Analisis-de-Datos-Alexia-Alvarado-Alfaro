{
  "nbformat": 4,
  "nbformat_minor": 0,
  "metadata": {
    "colab": {
      "provenance": [],
      "include_colab_link": true
    },
    "kernelspec": {
      "name": "python3",
      "display_name": "Python 3"
    },
    "language_info": {
      "name": "python"
    }
  },
  "cells": [
    {
      "cell_type": "markdown",
      "metadata": {
        "id": "view-in-github",
        "colab_type": "text"
      },
      "source": [
        "<a href=\"https://colab.research.google.com/github/LittleHehet/Analisis-de-Datos-Alexia-Alvarado-Alfaro/blob/main/video_primera_clase_intro_analisis.ipynb\" target=\"_parent\"><img src=\"https://colab.research.google.com/assets/colab-badge.svg\" alt=\"Open In Colab\"/></a>"
      ]
    },
    {
      "cell_type": "code",
      "source": [
        "from google.colab import auth\n",
        "auth.authenticate_user()\n",
        "print('Authenticated')"
      ],
      "metadata": {
        "colab": {
          "base_uri": "https://localhost:8080/"
        },
        "id": "2cmZ7QTaqE1i",
        "outputId": "cd525a85-285d-46c1-9b9e-35e5d85d8159"
      },
      "execution_count": 1,
      "outputs": [
        {
          "output_type": "stream",
          "name": "stdout",
          "text": [
            "Authenticated\n"
          ]
        }
      ]
    },
    {
      "cell_type": "markdown",
      "source": [
        "año bisiesto ejercicio"
      ],
      "metadata": {
        "id": "CZGOCcYbPEr1"
      }
    },
    {
      "cell_type": "markdown",
      "source": [
        "ejercicio practica if else"
      ],
      "metadata": {
        "id": "wCqEL1EAP26h"
      }
    },
    {
      "cell_type": "code",
      "source": [
        "print(\"Ejercicio Bisiesto\")\n",
        "anio=int(input(\"Ingrese el año: \"))\n",
        "if(anio % 400 == 0)or(anio % 4 == 0) and (anio % 100 != 0):\n",
        "  print(\"El año es bisiesto\")\n",
        "else:\n",
        "  print(\"el año no es bisieto\")"
      ],
      "metadata": {
        "colab": {
          "base_uri": "https://localhost:8080/"
        },
        "id": "ujK653u1PIA9",
        "outputId": "830e7494-40fa-4088-f079-a872f0ae06ec"
      },
      "execution_count": null,
      "outputs": [
        {
          "output_type": "stream",
          "name": "stdout",
          "text": [
            "Ejercicio Bisiesto\n",
            "Ingrese el año: 2022\n",
            "el año no es bisieto\n"
          ]
        }
      ]
    },
    {
      "cell_type": "markdown",
      "source": [
        "ejercicio con switch = casos (no condiciones) Ejemplo evalucion de los meses del año"
      ],
      "metadata": {
        "id": "z506ujTuP9gu"
      }
    },
    {
      "cell_type": "code",
      "source": [
        "switcher={1: \"enero\",2:\"febrero\",3:\"marzo\",4:\"abril\",5:\"mayo\",6:\"junio\",7:\"julio\",8:\"agosto\",9:\"septiembre\",10:\"octubre\",11:\"noviembre\",12:\"diciembre\"}\n",
        "argument=int(input(\"ingrese un numero: \"))\n",
        "nombreDeMes=switcher.get(argument,\"Mes invalido\")\n",
        "print(nombreDeMes)"
      ],
      "metadata": {
        "colab": {
          "base_uri": "https://localhost:8080/"
        },
        "id": "N8zKM4UgQFOi",
        "outputId": "35f8db5d-d2eb-48eb-f9ce-8e1e58938e50"
      },
      "execution_count": null,
      "outputs": [
        {
          "output_type": "stream",
          "name": "stdout",
          "text": [
            "ingrese un numero: 13\n",
            "Mes invalido\n"
          ]
        }
      ]
    },
    {
      "cell_type": "markdown",
      "source": [],
      "metadata": {
        "id": "H6xM-0DBZfZk"
      }
    },
    {
      "cell_type": "markdown",
      "source": [
        "CICLOS\n",
        "*While\n",
        "*Foreach = lista para iterar elementos.\n",
        "si tiene un solo parametro; de cero hasta menor que el numero\n",
        "range(10) crea una lista del 0 al 9\n",
        "range(inicio,fin)\n",
        "range(1,10) crea una lista del 1 al 9\n",
        "range(inicio, fin, incremento/decremento)\n",
        "range(1,10,2) crea una lista de 1 a 9 de 2 en 2\n",
        "\n"
      ],
      "metadata": {
        "id": "GxCPAxLQRFO2"
      }
    },
    {
      "cell_type": "code",
      "source": [],
      "metadata": {
        "id": "4m1VIbrZZdqX"
      },
      "execution_count": null,
      "outputs": []
    },
    {
      "cell_type": "markdown",
      "source": [
        "Problema 1\n",
        "se coloca un capital C  a un interes I (entre 0 y 100) durante M años y se desea saber en cuanto se habra convertido ese capital M años, sabiendo que es acumulativo"
      ],
      "metadata": {
        "id": "2SSrrFQMR5CY"
      }
    },
    {
      "cell_type": "code",
      "source": [
        "\n",
        "C=-1\n",
        "I=0\n",
        "M=0\n",
        "\n",
        "while(C<0) or (I<=0) or (I>=100) or (M<=0):\n",
        "  print(\"Introduce el capital. el interes. y el tiempo apropiado\")\n",
        "  C=int(input(\"Capital: \"))\n",
        "  I=int(input(\"Intereses: \"))\n",
        "  M=int(input(\"Tiempo en Anios: \"))\n",
        "\n",
        "for i in range(M):\n",
        "  C=C*(1+I/100)\n",
        "  print (\"Monto\",C,\"colones\")"
      ],
      "metadata": {
        "colab": {
          "base_uri": "https://localhost:8080/"
        },
        "id": "3IAYJCFmSH7k",
        "outputId": "22d56d96-2581-4f8d-e2e1-21f7b73c3367"
      },
      "execution_count": null,
      "outputs": [
        {
          "output_type": "stream",
          "name": "stdout",
          "text": [
            "Introduce el capital. el interes. y el tiempo apropiado\n",
            "Capital: 1000\n",
            "Intereses: 10\n",
            "Tiempo en Anios: 20\n",
            "Monto 1100.0 colones\n",
            "Monto 1210.0 colones\n",
            "Monto 1331.0 colones\n",
            "Monto 1464.1000000000001 colones\n",
            "Monto 1610.5100000000002 colones\n",
            "Monto 1771.5610000000004 colones\n",
            "Monto 1948.7171000000005 colones\n",
            "Monto 2143.5888100000006 colones\n",
            "Monto 2357.9476910000008 colones\n",
            "Monto 2593.742460100001 colones\n",
            "Monto 2853.1167061100014 colones\n",
            "Monto 3138.4283767210018 colones\n",
            "Monto 3452.271214393102 colones\n",
            "Monto 3797.4983358324125 colones\n",
            "Monto 4177.248169415654 colones\n",
            "Monto 4594.97298635722 colones\n",
            "Monto 5054.470284992943 colones\n",
            "Monto 5559.917313492238 colones\n",
            "Monto 6115.909044841462 colones\n",
            "Monto 6727.499949325608 colones\n"
          ]
        }
      ]
    },
    {
      "cell_type": "markdown",
      "source": [
        "DIVISORES\n"
      ],
      "metadata": {
        "id": "NKK02InbUiFx"
      }
    },
    {
      "cell_type": "code",
      "source": [
        "print(\"Digite numero\")\n",
        "numero=int(input(\"numero: \"))\n",
        "\n",
        "suma=0\n",
        "for i in range(1,numero+1):\n",
        "  if(numero%i==0):\n",
        "    suma=suma+i\n",
        "print (suma)\n",
        "#1+2+5+10=18 ejemplo con 10\n",
        "numero=int(input(\"Numero: \"))"
      ],
      "metadata": {
        "colab": {
          "base_uri": "https://localhost:8080/"
        },
        "id": "ow4C0QDkUyPm",
        "outputId": "4a402c77-647a-45df-af2b-e3bb5f8c6b58"
      },
      "execution_count": null,
      "outputs": [
        {
          "output_type": "stream",
          "name": "stdout",
          "text": [
            "Digite numero\n",
            "numero: 10\n",
            "18\n"
          ]
        }
      ]
    }
  ]
}